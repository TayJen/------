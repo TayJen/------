{
 "cells": [
  {
   "cell_type": "code",
   "execution_count": 6,
   "metadata": {},
   "outputs": [],
   "source": [
    "from sklearn.model_selection import train_test_split\n",
    "from sklearn.metrics import accuracy_score, classification_report\n",
    "from sklearn.linear_model import LogisticRegression\n",
    "from sklearn.neighbors import KNeighborsClassifier\n",
    "from sklearn.ensemble import RandomForestClassifier\n",
    "from xgboost import XGBClassifier\n",
    "from time import time\n",
    "import pandas as pd"
   ]
  },
  {
   "cell_type": "code",
   "execution_count": 18,
   "metadata": {},
   "outputs": [],
   "source": [
    "def train_model(data, data_test, model):\n",
    "    X_train, X_valid, y_train, y_valid = train_test_split(data.drop('is_fake', axis=1), data['is_fake'],\n",
    "                                                          test_size=0.15, random_state=13)\n",
    "\n",
    "    X_test = data_test.drop('is_fake', axis=1)\n",
    "    y_test = data_test['is_fake']\n",
    "\n",
    "    t0 = time()\n",
    "    model.fit(X_train, y_train)\n",
    "    t1 = time()\n",
    "    y_pred_valid = model.predict(X_valid)\n",
    "    t2 = time()\n",
    "    y_pred_test = model.predict(X_test)\n",
    "    t3 = time()\n",
    "\n",
    "    time_train = t1 - t0\n",
    "    time_pred_valid = t2 - t1\n",
    "    time_pred_test = t3 - t2\n",
    "\n",
    "    print(model)\n",
    "    print(f'Training time: {time_train}')\n",
    "    print(f'Prediction time (validation): {time_pred_valid}')\n",
    "    print(f'Prediction time (test): {time_pred_test} \\n')\n",
    "    print('Accuracy score train set :', model.score(X_train, y_train))\n",
    "    print('Accuracy score valid set  :', accuracy_score(y_valid, y_pred_valid))\n",
    "    print('Accuracy score test set  :', accuracy_score(y_test, y_pred_test), '\\n')\n",
    "    print('Validation classification report: ')\n",
    "    print(classification_report(y_valid, y_pred_valid))\n",
    "    print('Test classification report: ')\n",
    "    print(classification_report(y_test, y_pred_test))\n",
    "    \n",
    "    print('\\n -------------------------------------------------------------------------------------- \\n')"
   ]
  },
  {
   "cell_type": "code",
   "execution_count": 19,
   "metadata": {},
   "outputs": [],
   "source": [
    "path = 'new data\\\\'\n",
    "name_train = 'new_df_train.csv'\n",
    "name_test = 'new_df_test.csv'\n",
    "\n",
    "df = pd.read_csv(path + name_train)\n",
    "df_test = pd.read_csv(path + name_test)"
   ]
  },
  {
   "cell_type": "code",
   "execution_count": 20,
   "metadata": {},
   "outputs": [
    {
     "name": "stdout",
     "output_type": "stream",
     "text": [
      "LogisticRegression()\n",
      "Training time: 3.893789052963257\n",
      "Prediction time (validation): 0.07081007957458496\n",
      "Prediction time (test): 0.08377623558044434 \n",
      "\n",
      "Accuracy score train set : 0.9836534532080098\n",
      "Accuracy score valid set  : 0.8368055555555556\n",
      "Accuracy score test set  : 0.538 \n",
      "\n",
      "Validation classification report: \n",
      "              precision    recall  f1-score   support\n",
      "\n",
      "           0       0.80      0.91      0.85       435\n",
      "           1       0.89      0.77      0.82       429\n",
      "\n",
      "    accuracy                           0.84       864\n",
      "   macro avg       0.84      0.84      0.84       864\n",
      "weighted avg       0.84      0.84      0.84       864\n",
      "\n",
      "Test classification report: \n",
      "              precision    recall  f1-score   support\n",
      "\n",
      "           0       1.00      0.54      0.70      1000\n",
      "           1       0.00      0.00      0.00         0\n",
      "\n",
      "    accuracy                           0.54      1000\n",
      "   macro avg       0.50      0.27      0.35      1000\n",
      "weighted avg       1.00      0.54      0.70      1000\n",
      "\n",
      "\n",
      " -------------------------------------------------------------------------------------- \n",
      "\n"
     ]
    },
    {
     "name": "stderr",
     "output_type": "stream",
     "text": [
      "C:\\Python Interpreter\\lib\\site-packages\\sklearn\\metrics\\_classification.py:1318: UndefinedMetricWarning: Recall and F-score are ill-defined and being set to 0.0 in labels with no true samples. Use `zero_division` parameter to control this behavior.\n",
      "  _warn_prf(average, modifier, msg_start, len(result))\n",
      "C:\\Python Interpreter\\lib\\site-packages\\sklearn\\metrics\\_classification.py:1318: UndefinedMetricWarning: Recall and F-score are ill-defined and being set to 0.0 in labels with no true samples. Use `zero_division` parameter to control this behavior.\n",
      "  _warn_prf(average, modifier, msg_start, len(result))\n",
      "C:\\Python Interpreter\\lib\\site-packages\\sklearn\\metrics\\_classification.py:1318: UndefinedMetricWarning: Recall and F-score are ill-defined and being set to 0.0 in labels with no true samples. Use `zero_division` parameter to control this behavior.\n",
      "  _warn_prf(average, modifier, msg_start, len(result))\n"
     ]
    }
   ],
   "source": [
    "# for model in [LogisticRegression(), KNeighborsClassifier(),\n",
    "#               RandomForestClassifier(), XGBClassifier()]:\n",
    "train_model(df, df_test, LogisticRegression())"
   ]
  },
  {
   "cell_type": "code",
   "execution_count": 22,
   "metadata": {},
   "outputs": [
    {
     "name": "stdout",
     "output_type": "stream",
     "text": [
      "KNeighborsClassifier()\n",
      "Training time: 0.19546937942504883\n",
      "Prediction time (validation): 1.1229655742645264\n",
      "Prediction time (test): 1.72438645362854 \n",
      "\n",
      "Accuracy score train set : 0.8475684511646915\n",
      "Accuracy score valid set  : 0.6481481481481481\n",
      "Accuracy score test set  : 0.569 \n",
      "\n",
      "Validation classification report: \n",
      "              precision    recall  f1-score   support\n",
      "\n",
      "           0       0.64      0.71      0.67       435\n",
      "           1       0.66      0.59      0.62       429\n",
      "\n",
      "    accuracy                           0.65       864\n",
      "   macro avg       0.65      0.65      0.65       864\n",
      "weighted avg       0.65      0.65      0.65       864\n",
      "\n",
      "Test classification report: \n",
      "              precision    recall  f1-score   support\n",
      "\n",
      "           0       1.00      0.57      0.73      1000\n",
      "           1       0.00      0.00      0.00         0\n",
      "\n",
      "    accuracy                           0.57      1000\n",
      "   macro avg       0.50      0.28      0.36      1000\n",
      "weighted avg       1.00      0.57      0.73      1000\n",
      "\n",
      "\n",
      " -------------------------------------------------------------------------------------- \n",
      "\n"
     ]
    },
    {
     "name": "stderr",
     "output_type": "stream",
     "text": [
      "C:\\Python Interpreter\\lib\\site-packages\\sklearn\\metrics\\_classification.py:1318: UndefinedMetricWarning: Recall and F-score are ill-defined and being set to 0.0 in labels with no true samples. Use `zero_division` parameter to control this behavior.\n",
      "  _warn_prf(average, modifier, msg_start, len(result))\n",
      "C:\\Python Interpreter\\lib\\site-packages\\sklearn\\metrics\\_classification.py:1318: UndefinedMetricWarning: Recall and F-score are ill-defined and being set to 0.0 in labels with no true samples. Use `zero_division` parameter to control this behavior.\n",
      "  _warn_prf(average, modifier, msg_start, len(result))\n",
      "C:\\Python Interpreter\\lib\\site-packages\\sklearn\\metrics\\_classification.py:1318: UndefinedMetricWarning: Recall and F-score are ill-defined and being set to 0.0 in labels with no true samples. Use `zero_division` parameter to control this behavior.\n",
      "  _warn_prf(average, modifier, msg_start, len(result))\n"
     ]
    }
   ],
   "source": [
    "train_model(df, df_test, KNeighborsClassifier())"
   ]
  },
  {
   "cell_type": "code",
   "execution_count": 23,
   "metadata": {},
   "outputs": [
    {
     "name": "stdout",
     "output_type": "stream",
     "text": [
      "RandomForestClassifier()\n",
      "Training time: 32.12558197975159\n",
      "Prediction time (validation): 0.23134827613830566\n",
      "Prediction time (test): 0.22451448440551758 \n",
      "\n",
      "Accuracy score train set : 0.9997956681651001\n",
      "Accuracy score valid set  : 0.7731481481481481\n",
      "Accuracy score test set  : 0.615 \n",
      "\n",
      "Validation classification report: \n",
      "              precision    recall  f1-score   support\n",
      "\n",
      "           0       0.71      0.91      0.80       435\n",
      "           1       0.88      0.63      0.73       429\n",
      "\n",
      "    accuracy                           0.77       864\n",
      "   macro avg       0.80      0.77      0.77       864\n",
      "weighted avg       0.80      0.77      0.77       864\n",
      "\n",
      "Test classification report: \n",
      "              precision    recall  f1-score   support\n",
      "\n",
      "           0       1.00      0.61      0.76      1000\n",
      "           1       0.00      0.00      0.00         0\n",
      "\n",
      "    accuracy                           0.61      1000\n",
      "   macro avg       0.50      0.31      0.38      1000\n",
      "weighted avg       1.00      0.61      0.76      1000\n",
      "\n",
      "\n",
      " -------------------------------------------------------------------------------------- \n",
      "\n"
     ]
    },
    {
     "name": "stderr",
     "output_type": "stream",
     "text": [
      "C:\\Python Interpreter\\lib\\site-packages\\sklearn\\metrics\\_classification.py:1318: UndefinedMetricWarning: Recall and F-score are ill-defined and being set to 0.0 in labels with no true samples. Use `zero_division` parameter to control this behavior.\n",
      "  _warn_prf(average, modifier, msg_start, len(result))\n",
      "C:\\Python Interpreter\\lib\\site-packages\\sklearn\\metrics\\_classification.py:1318: UndefinedMetricWarning: Recall and F-score are ill-defined and being set to 0.0 in labels with no true samples. Use `zero_division` parameter to control this behavior.\n",
      "  _warn_prf(average, modifier, msg_start, len(result))\n",
      "C:\\Python Interpreter\\lib\\site-packages\\sklearn\\metrics\\_classification.py:1318: UndefinedMetricWarning: Recall and F-score are ill-defined and being set to 0.0 in labels with no true samples. Use `zero_division` parameter to control this behavior.\n",
      "  _warn_prf(average, modifier, msg_start, len(result))\n"
     ]
    }
   ],
   "source": [
    "train_model(df, df_test, RandomForestClassifier())"
   ]
  },
  {
   "cell_type": "code",
   "execution_count": 24,
   "metadata": {},
   "outputs": [
    {
     "name": "stderr",
     "output_type": "stream",
     "text": [
      "C:\\Python Interpreter\\lib\\site-packages\\xgboost\\sklearn.py:1224: UserWarning: The use of label encoder in XGBClassifier is deprecated and will be removed in a future release. To remove this warning, do the following: 1) Pass option use_label_encoder=False when constructing XGBClassifier object; and 2) Encode your labels (y) as integers starting with 0, i.e. 0, 1, 2, ..., [num_class - 1].\n",
      "  warnings.warn(label_encoder_deprecation_msg, UserWarning)\n"
     ]
    },
    {
     "name": "stdout",
     "output_type": "stream",
     "text": [
      "[00:49:42] WARNING: C:/Users/Administrator/workspace/xgboost-win64_release_1.5.1/src/learner.cc:1115: Starting in XGBoost 1.3.0, the default evaluation metric used with the objective 'binary:logistic' was changed from 'error' to 'logloss'. Explicitly set eval_metric if you'd like to restore the old behavior.\n",
      "XGBClassifier(base_score=0.5, booster='gbtree', colsample_bylevel=1,\n",
      "              colsample_bynode=1, colsample_bytree=1, enable_categorical=False,\n",
      "              gamma=0, gpu_id=-1, importance_type=None,\n",
      "              interaction_constraints='', learning_rate=0.300000012,\n",
      "              max_delta_step=0, max_depth=6, min_child_weight=1, missing=nan,\n",
      "              monotone_constraints='()', n_estimators=100, n_jobs=8,\n",
      "              num_parallel_tree=1, predictor='auto', random_state=0,\n",
      "              reg_alpha=0, reg_lambda=1, scale_pos_weight=1, subsample=1,\n",
      "              tree_method='exact', validate_parameters=1, verbosity=None)\n",
      "Training time: 99.88963508605957\n",
      "Prediction time (validation): 0.7898859977722168\n",
      "Prediction time (test): 0.8227989673614502 \n",
      "\n",
      "Accuracy score train set : 0.8220269718022067\n",
      "Accuracy score valid set  : 0.7511574074074074\n",
      "Accuracy score test set  : 0.601 \n",
      "\n",
      "Validation classification report: \n",
      "              precision    recall  f1-score   support\n",
      "\n",
      "           0       0.70      0.89      0.78       435\n",
      "           1       0.84      0.61      0.71       429\n",
      "\n",
      "    accuracy                           0.75       864\n",
      "   macro avg       0.77      0.75      0.75       864\n",
      "weighted avg       0.77      0.75      0.75       864\n",
      "\n",
      "Test classification report: \n",
      "              precision    recall  f1-score   support\n",
      "\n",
      "           0       1.00      0.60      0.75      1000\n",
      "           1       0.00      0.00      0.00         0\n",
      "\n",
      "    accuracy                           0.60      1000\n",
      "   macro avg       0.50      0.30      0.38      1000\n",
      "weighted avg       1.00      0.60      0.75      1000\n",
      "\n",
      "\n",
      " -------------------------------------------------------------------------------------- \n",
      "\n"
     ]
    },
    {
     "name": "stderr",
     "output_type": "stream",
     "text": [
      "C:\\Python Interpreter\\lib\\site-packages\\sklearn\\metrics\\_classification.py:1318: UndefinedMetricWarning: Recall and F-score are ill-defined and being set to 0.0 in labels with no true samples. Use `zero_division` parameter to control this behavior.\n",
      "  _warn_prf(average, modifier, msg_start, len(result))\n",
      "C:\\Python Interpreter\\lib\\site-packages\\sklearn\\metrics\\_classification.py:1318: UndefinedMetricWarning: Recall and F-score are ill-defined and being set to 0.0 in labels with no true samples. Use `zero_division` parameter to control this behavior.\n",
      "  _warn_prf(average, modifier, msg_start, len(result))\n",
      "C:\\Python Interpreter\\lib\\site-packages\\sklearn\\metrics\\_classification.py:1318: UndefinedMetricWarning: Recall and F-score are ill-defined and being set to 0.0 in labels with no true samples. Use `zero_division` parameter to control this behavior.\n",
      "  _warn_prf(average, modifier, msg_start, len(result))\n"
     ]
    }
   ],
   "source": [
    "train_model(df, df_test, XGBClassifier())"
   ]
  }
 ],
 "metadata": {
  "interpreter": {
   "hash": "a2f5a8c3b1f2eab5da0c6d300150fde14b5af910044bc98130fc437c147598ff"
  },
  "kernelspec": {
   "display_name": "Python 3.10.0 64-bit",
   "language": "python",
   "name": "python3"
  },
  "language_info": {
   "codemirror_mode": {
    "name": "ipython",
    "version": 3
   },
   "file_extension": ".py",
   "mimetype": "text/x-python",
   "name": "python",
   "nbconvert_exporter": "python",
   "pygments_lexer": "ipython3",
   "version": "3.10.0"
  },
  "orig_nbformat": 4
 },
 "nbformat": 4,
 "nbformat_minor": 2
}
